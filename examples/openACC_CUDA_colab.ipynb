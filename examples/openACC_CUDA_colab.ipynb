{
 "cells": [
  {
   "cell_type": "markdown",
   "metadata": {
    "id": "D6BqLpZjlzBM"
   },
   "source": [
    "# OpenACC-CUDA workshop"
   ]
  },
  {
   "cell_type": "code",
   "execution_count": null,
   "metadata": {
    "colab": {
     "base_uri": "https://localhost:8080/"
    },
    "id": "8O5Zv1N5ovZi",
    "outputId": "8455ab0a-3d74-4ecb-adad-1b6df12c4ec5"
   },
   "outputs": [],
   "source": [
    "!pwd"
   ]
  },
  {
   "cell_type": "markdown",
   "metadata": {
    "id": "6WS9YBwSAsnf"
   },
   "source": [
    "## Activate GPU\n",
    "\n",
    "- To get access to a GPU, click on the *Runtime* menu and select *Change runtime type*. Choose GPU as a Hardware accelerator. It might take a minute for your notebook to connect to a GPU.\n",
    "- To check whether a GPU has been connected to your session, run the code cell below with the ``!nvidia-smi`` command by hitting ``SHIFT-ENTER`` on it."
   ]
  },
  {
   "cell_type": "code",
   "execution_count": null,
   "metadata": {
    "id": "dcgTx_OSAwA_"
   },
   "outputs": [],
   "source": [
    "!nvidia-smi"
   ]
  },
  {
   "cell_type": "markdown",
   "metadata": {
    "id": "xAPuix4SA3Vp"
   },
   "source": [
    "## Clone the material"
   ]
  },
  {
   "cell_type": "code",
   "execution_count": null,
   "metadata": {
    "colab": {
     "base_uri": "https://localhost:8080/"
    },
    "id": "qJIpAOBWpHOx",
    "outputId": "26636e8e-2070-41e6-d53e-61b1c3c9c722"
   },
   "outputs": [],
   "source": [
    "!git clone https://github.com/ENCCS/OpenACC-CUDA-beginners.git"
   ]
  },
  {
   "cell_type": "code",
   "execution_count": null,
   "metadata": {
    "colab": {
     "base_uri": "https://localhost:8080/"
    },
    "id": "t44HqrHsls5x",
    "outputId": "860c08cb-06e6-4088-fad4-22057f692a3d"
   },
   "outputs": [],
   "source": [
    "!ls"
   ]
  },
  {
   "cell_type": "markdown",
   "metadata": {
    "id": "CYF7lZ8RuipV"
   },
   "source": [
    "## Checkout out **colab_gcc** branch"
   ]
  },
  {
   "cell_type": "code",
   "execution_count": null,
   "metadata": {
    "colab": {
     "base_uri": "https://localhost:8080/"
    },
    "id": "oN7xcztouuTs",
    "outputId": "118c4d99-d2fd-4d00-9970-c509020ca13c"
   },
   "outputs": [],
   "source": [
    "%cd OpenACC-CUDA-beginners\n",
    "!git checkout colab_gcc"
   ]
  },
  {
   "cell_type": "code",
   "execution_count": null,
   "metadata": {
    "colab": {
     "base_uri": "https://localhost:8080/"
    },
    "id": "kq5nVvo2u-Is",
    "outputId": "aebe8d6b-71fc-4106-dd0e-7a1c73eb9cac"
   },
   "outputs": [],
   "source": [
    "!git branch"
   ]
  },
  {
   "cell_type": "markdown",
   "metadata": {
    "id": "jeH9ThM7luF1"
   },
   "source": [
    "## OpenACC"
   ]
  },
  {
   "cell_type": "markdown",
   "metadata": {
    "id": "A6wNo7E9JF0D"
   },
   "source": [
    "### Hello World"
   ]
  },
  {
   "cell_type": "code",
   "execution_count": null,
   "metadata": {
    "colab": {
     "base_uri": "https://localhost:8080/"
    },
    "id": "qf-7cP6EJdXD",
    "outputId": "67c43fa7-0fc0-4390-a9b9-d75f34b11aa9"
   },
   "outputs": [],
   "source": [
    "%cd /content/OpenACC-CUDA-beginners/examples/OpenACC/hello-world/"
   ]
  },
  {
   "cell_type": "code",
   "execution_count": null,
   "metadata": {
    "colab": {
     "base_uri": "https://localhost:8080/"
    },
    "id": "dS3XhPJHKPy7",
    "outputId": "35c36109-bace-4bde-92e5-0f771522d379"
   },
   "outputs": [],
   "source": [
    "!ls"
   ]
  },
  {
   "cell_type": "markdown",
   "metadata": {
    "id": "LknjXCxaKtLi"
   },
   "source": [
    "Compile and run C version"
   ]
  },
  {
   "cell_type": "code",
   "execution_count": null,
   "metadata": {
    "id": "EEuFYeB9KSV-"
   },
   "outputs": [],
   "source": [
    "!gcc -fopenacc -o hello_c hello.c"
   ]
  },
  {
   "cell_type": "code",
   "execution_count": null,
   "metadata": {
    "colab": {
     "base_uri": "https://localhost:8080/"
    },
    "id": "iVzDTFLpKcSl",
    "outputId": "15eba878-7104-451a-f316-f14e28ce4023"
   },
   "outputs": [],
   "source": [
    "!./hello_c"
   ]
  },
  {
   "cell_type": "markdown",
   "metadata": {
    "id": "dRFzmX4CKxyU"
   },
   "source": [
    "Compile and run Fortran version"
   ]
  },
  {
   "cell_type": "code",
   "execution_count": null,
   "metadata": {
    "id": "qeYvrnh4Kgvm"
   },
   "outputs": [],
   "source": [
    "!gfortran -fopenacc -o hello_f hello.F90"
   ]
  },
  {
   "cell_type": "code",
   "execution_count": null,
   "metadata": {
    "colab": {
     "base_uri": "https://localhost:8080/"
    },
    "id": "x6cvbnA2KpAW",
    "outputId": "51e6301e-f897-46a9-8059-1cc70dd56bd3"
   },
   "outputs": [],
   "source": [
    "!./hello_f"
   ]
  },
  {
   "cell_type": "code",
   "execution_count": null,
   "metadata": {},
   "outputs": [],
   "source": []
  },
  {
   "cell_type": "markdown",
   "metadata": {
    "id": "u1JryIrfJKsx"
   },
   "source": [
    "### Vector sum"
   ]
  },
  {
   "cell_type": "code",
   "execution_count": null,
   "metadata": {
    "colab": {
     "base_uri": "https://localhost:8080/"
    },
    "id": "MpfFV2rlJeDm",
    "outputId": "7f426397-652b-4a1d-9a39-9afe1b61d03c"
   },
   "outputs": [],
   "source": [
    "%cd /content/OpenACC-CUDA-beginners/examples/OpenACC/vector-sum/"
   ]
  },
  {
   "cell_type": "code",
   "execution_count": null,
   "metadata": {
    "colab": {
     "base_uri": "https://localhost:8080/"
    },
    "id": "jp0kdq0KK6TN",
    "outputId": "3b1757a7-62e9-4b95-8c75-52984987bc7a"
   },
   "outputs": [],
   "source": [
    "!ls"
   ]
  },
  {
   "cell_type": "code",
   "execution_count": null,
   "metadata": {
    "colab": {
     "base_uri": "https://localhost:8080/"
    },
    "id": "bdYqsvUZLt2I",
    "outputId": "e9aaefff-8dce-4a36-f056-3f9ad602472b"
   },
   "outputs": [],
   "source": [
    "# Pick either C or Fortran:\n",
    "%cd c\n",
    "#%cd F90\n",
    "# Have a look at the solutions:\n",
    "#%cd solution"
   ]
  },
  {
   "cell_type": "code",
   "execution_count": null,
   "metadata": {
    "colab": {
     "base_uri": "https://localhost:8080/"
    },
    "id": "y-NzTX5DMJDP",
    "outputId": "8a0c51af-7950-4f25-ce18-47eebe478ea3"
   },
   "outputs": [],
   "source": [
    "!make"
   ]
  },
  {
   "cell_type": "code",
   "execution_count": null,
   "metadata": {},
   "outputs": [],
   "source": []
  },
  {
   "cell_type": "markdown",
   "metadata": {
    "id": "1mX93fR7JLBT"
   },
   "source": [
    "### Double loop"
   ]
  },
  {
   "cell_type": "code",
   "execution_count": null,
   "metadata": {
    "colab": {
     "base_uri": "https://localhost:8080/"
    },
    "id": "-rCSF4vDJeqY",
    "outputId": "381fa0d3-3961-4a37-8c94-b701943dddbc"
   },
   "outputs": [],
   "source": [
    "%cd /content/OpenACC-CUDA-beginners/examples/OpenACC/doubleloop/"
   ]
  },
  {
   "cell_type": "code",
   "execution_count": null,
   "metadata": {
    "colab": {
     "base_uri": "https://localhost:8080/"
    },
    "id": "n7GS97rTJrKR",
    "outputId": "24d5c411-b04a-4594-a417-5d1838a29e74"
   },
   "outputs": [],
   "source": [
    "!ls"
   ]
  },
  {
   "cell_type": "code",
   "execution_count": null,
   "metadata": {
    "id": "Zj7HJKIPJk9h"
   },
   "outputs": [],
   "source": [
    "%cd c\n",
    "# Have a look at the solutions:\n",
    "#%cd solution"
   ]
  },
  {
   "cell_type": "code",
   "execution_count": null,
   "metadata": {
    "id": "4juwACcOKLFo"
   },
   "outputs": [],
   "source": []
  },
  {
   "cell_type": "markdown",
   "metadata": {
    "id": "PGlttDY0JOmj"
   },
   "source": [
    "### Jacobi"
   ]
  },
  {
   "cell_type": "code",
   "execution_count": null,
   "metadata": {
    "colab": {
     "base_uri": "https://localhost:8080/"
    },
    "id": "tqkZAsiwJfZn",
    "outputId": "f89cb1b4-fc68-4c19-d8ff-34f83321817a"
   },
   "outputs": [],
   "source": [
    "%cd /content/OpenACC-CUDA-beginners/examples/OpenACC/jacobi/"
   ]
  },
  {
   "cell_type": "code",
   "execution_count": null,
   "metadata": {
    "colab": {
     "base_uri": "https://localhost:8080/"
    },
    "id": "yoflwIAbJ3DI",
    "outputId": "0fe41adb-1146-4c04-d714-7e4d936a32e9"
   },
   "outputs": [],
   "source": [
    "!ls"
   ]
  },
  {
   "cell_type": "code",
   "execution_count": null,
   "metadata": {
    "id": "Edy3_Jv2J9Tw"
   },
   "outputs": [],
   "source": [
    "%cd c\n",
    "# Have a look at the solutions:\n",
    "#%cd solution"
   ]
  },
  {
   "cell_type": "code",
   "execution_count": null,
   "metadata": {},
   "outputs": [],
   "source": []
  },
  {
   "cell_type": "markdown",
   "metadata": {
    "id": "vGCtKAZ4mwPI"
   },
   "source": [
    "### $\\pi$ Monte Carlo"
   ]
  },
  {
   "cell_type": "code",
   "execution_count": null,
   "metadata": {
    "colab": {
     "base_uri": "https://localhost:8080/"
    },
    "id": "f41pkQwPKAiP",
    "outputId": "93192c5f-42b5-4b5a-d983-488eb8f6390d"
   },
   "outputs": [],
   "source": [
    "%cd /content/OpenACC-CUDA-beginners/examples/OpenACC/pi_monte_carlo/"
   ]
  },
  {
   "cell_type": "code",
   "execution_count": null,
   "metadata": {
    "colab": {
     "base_uri": "https://localhost:8080/"
    },
    "id": "vUX3QJdvKAiQ",
    "outputId": "0b73bab0-5f44-4a18-e465-49351dfcc666"
   },
   "outputs": [],
   "source": [
    "!ls"
   ]
  },
  {
   "cell_type": "code",
   "execution_count": null,
   "metadata": {
    "id": "UB4m64NFKAiR"
   },
   "outputs": [],
   "source": [
    "%cd c\n",
    "# Have a look at the solutions:\n",
    "#%cd solution"
   ]
  },
  {
   "cell_type": "code",
   "execution_count": null,
   "metadata": {
    "id": "VSw2X2IBJgq5"
   },
   "outputs": [],
   "source": []
  },
  {
   "cell_type": "markdown",
   "metadata": {
    "id": "ZJt3FQPBJUda"
   },
   "source": [
    "### Heat equation"
   ]
  },
  {
   "cell_type": "code",
   "execution_count": null,
   "metadata": {
    "colab": {
     "base_uri": "https://localhost:8080/"
    },
    "id": "UqNjOS6EKEVS",
    "outputId": "5035e99a-e47f-44c2-9799-bcad82cf3ed8"
   },
   "outputs": [],
   "source": [
    "%cd /content/OpenACC-CUDA-beginners/examples/OpenACC/HeatEquation/"
   ]
  },
  {
   "cell_type": "code",
   "execution_count": null,
   "metadata": {
    "colab": {
     "base_uri": "https://localhost:8080/"
    },
    "id": "u_ZZN7eAKEVT",
    "outputId": "92a5c931-7e47-4614-955e-c05b72383de8"
   },
   "outputs": [],
   "source": [
    "!ls"
   ]
  },
  {
   "cell_type": "code",
   "execution_count": null,
   "metadata": {
    "id": "QA7FJ_i1KEVT"
   },
   "outputs": [],
   "source": [
    "%cd c\n",
    "# Have a look at the solutions:\n",
    "#%cd solution"
   ]
  },
  {
   "cell_type": "code",
   "execution_count": null,
   "metadata": {},
   "outputs": [],
   "source": []
  },
  {
   "cell_type": "markdown",
   "metadata": {
    "id": "s4Pu7H4BwtH-"
   },
   "source": [
    "### Jacobi"
   ]
  },
  {
   "cell_type": "code",
   "execution_count": null,
   "metadata": {
    "colab": {
     "base_uri": "https://localhost:8080/"
    },
    "id": "6zID0zDgwqcr",
    "outputId": "38c2f15d-31be-4aa2-fae0-29ca2bb498cb"
   },
   "outputs": [],
   "source": [
    "%cd /content/OpenACC-CUDA-beginners/examples/OpenACC/jacobi/c"
   ]
  },
  {
   "cell_type": "code",
   "execution_count": null,
   "metadata": {
    "id": "e0fq0cNzw4X6"
   },
   "outputs": [],
   "source": [
    "# !gcc -g -O3 -fopenacc  jacobi.c -o jacobi  -lm\n",
    "!make"
   ]
  },
  {
   "cell_type": "code",
   "execution_count": null,
   "metadata": {
    "colab": {
     "base_uri": "https://localhost:8080/"
    },
    "id": "Tlx3pneux7bi",
    "outputId": "3f4f3287-e475-4f8b-bd7f-8745bb3b98fd"
   },
   "outputs": [],
   "source": [
    "!./jacobi"
   ]
  },
  {
   "cell_type": "markdown",
   "metadata": {
    "id": "UizLm-2WyjRp"
   },
   "source": [
    "go to solution"
   ]
  },
  {
   "cell_type": "code",
   "execution_count": null,
   "metadata": {
    "colab": {
     "base_uri": "https://localhost:8080/"
    },
    "id": "XZBqFWQbym-q",
    "outputId": "55f8b8a7-9a7d-4e36-dcee-f32b942739dd"
   },
   "outputs": [],
   "source": [
    "%cd ../solution/c"
   ]
  },
  {
   "cell_type": "code",
   "execution_count": null,
   "metadata": {
    "colab": {
     "base_uri": "https://localhost:8080/"
    },
    "id": "aS5vT-tMy2cO",
    "outputId": "97fe6e1e-e35e-411a-c1ad-71363e360f63"
   },
   "outputs": [],
   "source": [
    "# !gcc -g -O3 -fopenacc  jacobi.c -o jacobi  -lm\n",
    "!make"
   ]
  },
  {
   "cell_type": "markdown",
   "metadata": {
    "id": "aPHXwSoRvwXF"
   },
   "source": [
    "### Heat equation"
   ]
  },
  {
   "cell_type": "code",
   "execution_count": null,
   "metadata": {
    "colab": {
     "base_uri": "https://localhost:8080/"
    },
    "id": "jqGfrNx8PYU2",
    "outputId": "041281f0-dc30-4a5a-e6ca-f2a04b4618d3"
   },
   "outputs": [],
   "source": [
    "%cd /content/OpenACC-CUDA-beginners/examples/OpenACC/HeatEquation/c"
   ]
  },
  {
   "cell_type": "code",
   "execution_count": null,
   "metadata": {
    "colab": {
     "base_uri": "https://localhost:8080/"
    },
    "id": "G94izfiNPeRa",
    "outputId": "3733c31f-5918-469b-e9af-4b3ce676c03c"
   },
   "outputs": [],
   "source": [
    "!make"
   ]
  },
  {
   "cell_type": "code",
   "execution_count": null,
   "metadata": {
    "colab": {
     "base_uri": "https://localhost:8080/"
    },
    "id": "Ig9W8EqJP6jS",
    "outputId": "887723a2-d74a-419c-b2e4-029a247ac565"
   },
   "outputs": [],
   "source": [
    "!./heat"
   ]
  },
  {
   "cell_type": "markdown",
   "metadata": {
    "id": "-8m2pVcVwC5r"
   },
   "source": [
    "go to solution"
   ]
  },
  {
   "cell_type": "code",
   "execution_count": null,
   "metadata": {
    "colab": {
     "base_uri": "https://localhost:8080/"
    },
    "id": "9dYtyLuOwQB_",
    "outputId": "876a15ad-cd6b-497d-80bf-77dc352cb772"
   },
   "outputs": [],
   "source": [
    "%cd ../solution/c"
   ]
  },
  {
   "cell_type": "code",
   "execution_count": null,
   "metadata": {
    "id": "34alAFmXw8fG"
   },
   "outputs": [],
   "source": [
    "!gcc -fopenacc -o heat_equation_openacc_1 /content/OpenACC-CUDA-beginners/examples/OpenACC/HeatEquation/solution/c/heat_equation_openacc_1.c"
   ]
  },
  {
   "cell_type": "code",
   "execution_count": null,
   "metadata": {
    "colab": {
     "base_uri": "https://localhost:8080/"
    },
    "id": "W7MlYgA2yioS",
    "outputId": "7fd3e032-eff2-4fe0-dd98-25636fdb1468"
   },
   "outputs": [],
   "source": [
    "!./heat_equation_openacc_1"
   ]
  },
  {
   "cell_type": "markdown",
   "metadata": {
    "id": "bAlNWf3blxI7"
   },
   "source": [
    "## CUDA"
   ]
  },
  {
   "cell_type": "markdown",
   "metadata": {
    "id": "x0By9cPCShlb"
   },
   "source": [
    "### DeviceList"
   ]
  },
  {
   "cell_type": "code",
   "execution_count": null,
   "metadata": {
    "colab": {
     "base_uri": "https://localhost:8080/"
    },
    "id": "H_5pzYu-Sggk",
    "outputId": "deab857f-af5c-42fa-e2f1-e081487b90fb"
   },
   "outputs": [],
   "source": [
    "%cd /content/OpenACC-CUDA-beginners/examples/CUDA/DeviceList"
   ]
  },
  {
   "cell_type": "code",
   "execution_count": null,
   "metadata": {
    "colab": {
     "base_uri": "https://localhost:8080/"
    },
    "id": "pWVOmVCcSmgJ",
    "outputId": "b489ca19-e73c-47d9-9022-530f0d9b8222"
   },
   "outputs": [],
   "source": [
    "!ls"
   ]
  },
  {
   "cell_type": "code",
   "execution_count": null,
   "metadata": {},
   "outputs": [],
   "source": []
  },
  {
   "cell_type": "markdown",
   "metadata": {
    "id": "xuSTw5cuStTT"
   },
   "source": [
    "### VectorAdd"
   ]
  },
  {
   "cell_type": "code",
   "execution_count": null,
   "metadata": {
    "colab": {
     "base_uri": "https://localhost:8080/"
    },
    "id": "Ns2t2GbtSsrZ",
    "outputId": "9aee19bf-0917-4f41-d706-0bdb0778db44"
   },
   "outputs": [],
   "source": [
    "%cd /content/OpenACC-CUDA-beginners/examples/CUDA/VectorAdd/"
   ]
  },
  {
   "cell_type": "code",
   "execution_count": null,
   "metadata": {
    "colab": {
     "base_uri": "https://localhost:8080/"
    },
    "id": "JXdmoHspSz3l",
    "outputId": "ed4ac604-5729-405f-ee1c-e0cdbcdc202f"
   },
   "outputs": [],
   "source": [
    "!ls"
   ]
  },
  {
   "cell_type": "code",
   "execution_count": null,
   "metadata": {},
   "outputs": [],
   "source": []
  },
  {
   "cell_type": "markdown",
   "metadata": {
    "id": "9FA3t0s5S5YP"
   },
   "source": [
    "### VectorDotProduct"
   ]
  },
  {
   "cell_type": "code",
   "execution_count": null,
   "metadata": {
    "colab": {
     "base_uri": "https://localhost:8080/"
    },
    "id": "345b-WhYS5YP",
    "outputId": "a0fcc704-84d9-42f7-f45a-2f687cf9452b"
   },
   "outputs": [],
   "source": [
    "%cd /content/OpenACC-CUDA-beginners/examples/CUDA/VectorDotProduct/"
   ]
  },
  {
   "cell_type": "code",
   "execution_count": null,
   "metadata": {
    "colab": {
     "base_uri": "https://localhost:8080/"
    },
    "id": "fZQMPQb4S5YQ",
    "outputId": "e6463945-3375-4d74-fa68-12f37f2e6e2a"
   },
   "outputs": [],
   "source": [
    "!ls"
   ]
  },
  {
   "cell_type": "code",
   "execution_count": null,
   "metadata": {},
   "outputs": [],
   "source": []
  },
  {
   "cell_type": "markdown",
   "metadata": {
    "id": "0vb8XjHUTA5W"
   },
   "source": [
    "### MatrixAdd"
   ]
  },
  {
   "cell_type": "code",
   "execution_count": null,
   "metadata": {
    "colab": {
     "base_uri": "https://localhost:8080/"
    },
    "id": "eNTrxEEuTA5X",
    "outputId": "1ec6adc7-d6be-490c-e566-2a463e3839d3"
   },
   "outputs": [],
   "source": [
    "%cd /content/OpenACC-CUDA-beginners/examples/CUDA/MatrixAdd/"
   ]
  },
  {
   "cell_type": "code",
   "execution_count": null,
   "metadata": {
    "colab": {
     "base_uri": "https://localhost:8080/"
    },
    "id": "Hn5zEqJ5TA5Y",
    "outputId": "95294c82-df83-444c-a7aa-1084ac918952"
   },
   "outputs": [],
   "source": [
    "!ls"
   ]
  },
  {
   "cell_type": "code",
   "execution_count": null,
   "metadata": {},
   "outputs": [],
   "source": []
  },
  {
   "cell_type": "markdown",
   "metadata": {
    "id": "kjmBGwtqTGyz"
   },
   "source": [
    "### Heat Equation"
   ]
  },
  {
   "cell_type": "code",
   "execution_count": null,
   "metadata": {
    "colab": {
     "base_uri": "https://localhost:8080/"
    },
    "id": "boUhbj-sTGyz",
    "outputId": "f10c6ad6-da52-48dc-d627-3bc4dbff2217"
   },
   "outputs": [],
   "source": [
    "%cd /content/OpenACC-CUDA-beginners/examples/CUDA/HeatEquation/"
   ]
  },
  {
   "cell_type": "code",
   "execution_count": null,
   "metadata": {
    "colab": {
     "base_uri": "https://localhost:8080/"
    },
    "id": "pYdj-TOcTGy0",
    "outputId": "383655c4-692d-4109-ae48-27a18d14616e"
   },
   "outputs": [],
   "source": [
    "!ls"
   ]
  },
  {
   "cell_type": "code",
   "execution_count": null,
   "metadata": {
    "id": "wc5d7zXGpxfv"
   },
   "outputs": [],
   "source": []
  }
 ],
 "metadata": {
  "accelerator": "GPU",
  "colab": {
   "collapsed_sections": [],
   "name": "Copy of openACC_CUDA_colab.ipynb",
   "provenance": [],
   "toc_visible": true
  },
  "kernelspec": {
   "display_name": "Python 3",
   "language": "python",
   "name": "python3"
  },
  "language_info": {
   "codemirror_mode": {
    "name": "ipython",
    "version": 3
   },
   "file_extension": ".py",
   "mimetype": "text/x-python",
   "name": "python",
   "nbconvert_exporter": "python",
   "pygments_lexer": "ipython3",
   "version": "3.8.5"
  }
 },
 "nbformat": 4,
 "nbformat_minor": 1
}
