{
  "nbformat": 4,
  "nbformat_minor": 0,
  "metadata": {
    "colab": {
      "name": "Copy of openACC_CUDA_colab.ipynb",
      "provenance": [],
      "collapsed_sections": [],
      "toc_visible": true
    },
    "kernelspec": {
      "name": "python3",
      "display_name": "Python 3"
    },
    "language_info": {
      "name": "python"
    },
    "accelerator": "GPU"
  },
  "cells": [
    {
      "cell_type": "markdown",
      "metadata": {
        "id": "D6BqLpZjlzBM"
      },
      "source": [
        "# OpenACC-CUDA workshop"
      ]
    },
    {
      "cell_type": "code",
      "metadata": {
        "id": "8O5Zv1N5ovZi",
        "colab": {
          "base_uri": "https://localhost:8080/"
        },
        "outputId": "8455ab0a-3d74-4ecb-adad-1b6df12c4ec5"
      },
      "source": [
        "!pwd"
      ],
      "execution_count": null,
      "outputs": [
        {
          "output_type": "stream",
          "text": [
            "/content\n"
          ],
          "name": "stdout"
        }
      ]
    },
    {
      "cell_type": "code",
      "metadata": {
        "colab": {
          "base_uri": "https://localhost:8080/"
        },
        "id": "qJIpAOBWpHOx",
        "outputId": "26636e8e-2070-41e6-d53e-61b1c3c9c722"
      },
      "source": [
        "!git clone https://github.com/ENCCS/OpenACC-CUDA-beginners.git"
      ],
      "execution_count": null,
      "outputs": [
        {
          "output_type": "stream",
          "text": [
            "Cloning into 'OpenACC-CUDA-beginners'...\n",
            "remote: Enumerating objects: 1153, done.\u001b[K\n",
            "remote: Counting objects: 100% (134/134), done.\u001b[K\n",
            "remote: Compressing objects: 100% (74/74), done.\u001b[K\n",
            "remote: Total 1153 (delta 63), reused 95 (delta 54), pack-reused 1019\u001b[K\n",
            "Receiving objects: 100% (1153/1153), 13.54 MiB | 26.51 MiB/s, done.\n",
            "Resolving deltas: 100% (517/517), done.\n"
          ],
          "name": "stdout"
        }
      ]
    },
    {
      "cell_type": "code",
      "metadata": {
        "id": "t44HqrHsls5x",
        "colab": {
          "base_uri": "https://localhost:8080/"
        },
        "outputId": "860c08cb-06e6-4088-fad4-22057f692a3d"
      },
      "source": [
        "!ls"
      ],
      "execution_count": null,
      "outputs": [
        {
          "output_type": "stream",
          "text": [
            "OpenACC-CUDA-beginners\tsample_data\n"
          ],
          "name": "stdout"
        }
      ]
    },
    {
      "cell_type": "markdown",
      "metadata": {
        "id": "CYF7lZ8RuipV"
      },
      "source": [
        "## Checkout out **colab_gcc** branch"
      ]
    },
    {
      "cell_type": "code",
      "metadata": {
        "colab": {
          "base_uri": "https://localhost:8080/"
        },
        "id": "oN7xcztouuTs",
        "outputId": "118c4d99-d2fd-4d00-9970-c509020ca13c"
      },
      "source": [
        "%cd OpenACC-CUDA-beginners\n",
        "!git checkout colab_gcc"
      ],
      "execution_count": null,
      "outputs": [
        {
          "output_type": "stream",
          "text": [
            "/content/OpenACC-CUDA-beginners\n",
            "Branch 'colab_gcc' set up to track remote branch 'colab_gcc' from 'origin'.\n",
            "Switched to a new branch 'colab_gcc'\n"
          ],
          "name": "stdout"
        }
      ]
    },
    {
      "cell_type": "code",
      "metadata": {
        "colab": {
          "base_uri": "https://localhost:8080/"
        },
        "id": "kq5nVvo2u-Is",
        "outputId": "aebe8d6b-71fc-4106-dd0e-7a1c73eb9cac"
      },
      "source": [
        "!git branch"
      ],
      "execution_count": null,
      "outputs": [
        {
          "output_type": "stream",
          "text": [
            "* \u001b[32mcolab_gcc\u001b[m\n",
            "  main\u001b[m\n"
          ],
          "name": "stdout"
        }
      ]
    },
    {
      "cell_type": "markdown",
      "metadata": {
        "id": "jeH9ThM7luF1"
      },
      "source": [
        "## OpenACC"
      ]
    },
    {
      "cell_type": "markdown",
      "metadata": {
        "id": "A6wNo7E9JF0D"
      },
      "source": [
        "### Hello World"
      ]
    },
    {
      "cell_type": "code",
      "metadata": {
        "colab": {
          "base_uri": "https://localhost:8080/"
        },
        "id": "qf-7cP6EJdXD",
        "outputId": "67c43fa7-0fc0-4390-a9b9-d75f34b11aa9"
      },
      "source": [
        "%cd /content/OpenACC-CUDA-beginners/examples/OpenACC/hello-world/"
      ],
      "execution_count": null,
      "outputs": [
        {
          "output_type": "stream",
          "text": [
            "/content/OpenACC-CUDA-beginners/examples/OpenACC/hello-world\n"
          ],
          "name": "stdout"
        }
      ]
    },
    {
      "cell_type": "code",
      "metadata": {
        "colab": {
          "base_uri": "https://localhost:8080/"
        },
        "id": "dS3XhPJHKPy7",
        "outputId": "35c36109-bace-4bde-92e5-0f771522d379"
      },
      "source": [
        "!ls"
      ],
      "execution_count": null,
      "outputs": [
        {
          "output_type": "stream",
          "text": [
            "compile.sh  hello.c  hello.F90\tREADME.md\n"
          ],
          "name": "stdout"
        }
      ]
    },
    {
      "cell_type": "markdown",
      "metadata": {
        "id": "LknjXCxaKtLi"
      },
      "source": [
        "Compile and run C version"
      ]
    },
    {
      "cell_type": "code",
      "metadata": {
        "id": "EEuFYeB9KSV-"
      },
      "source": [
        "!gcc -fopenacc -o hello_c hello.c"
      ],
      "execution_count": null,
      "outputs": []
    },
    {
      "cell_type": "code",
      "metadata": {
        "colab": {
          "base_uri": "https://localhost:8080/"
        },
        "id": "iVzDTFLpKcSl",
        "outputId": "15eba878-7104-451a-f316-f14e28ce4023"
      },
      "source": [
        "!./hello_c"
      ],
      "execution_count": null,
      "outputs": [
        {
          "output_type": "stream",
          "text": [
            "Hello world from OpenACC\n",
            "Number of available OpenACC devices: 1\n",
            "Type of available OpenACC devices: 2\n"
          ],
          "name": "stdout"
        }
      ]
    },
    {
      "cell_type": "markdown",
      "metadata": {
        "id": "dRFzmX4CKxyU"
      },
      "source": [
        "Compile and run Fortran version"
      ]
    },
    {
      "cell_type": "code",
      "metadata": {
        "id": "qeYvrnh4Kgvm"
      },
      "source": [
        "!gfortran -fopenacc -o hello_f hello.F90"
      ],
      "execution_count": null,
      "outputs": []
    },
    {
      "cell_type": "code",
      "metadata": {
        "colab": {
          "base_uri": "https://localhost:8080/"
        },
        "id": "x6cvbnA2KpAW",
        "outputId": "51e6301e-f897-46a9-8059-1cc70dd56bd3"
      },
      "source": [
        "!./hello_f"
      ],
      "execution_count": null,
      "outputs": [
        {
          "output_type": "stream",
          "text": [
            " Hello world from OpenACC\n",
            "Number of available OpenACC devices: 1\n",
            "Type of available OpenACC devices: 2\n"
          ],
          "name": "stdout"
        }
      ]
    },
    {
      "cell_type": "markdown",
      "metadata": {
        "id": "u1JryIrfJKsx"
      },
      "source": [
        "### Vector sum"
      ]
    },
    {
      "cell_type": "code",
      "metadata": {
        "colab": {
          "base_uri": "https://localhost:8080/"
        },
        "id": "MpfFV2rlJeDm",
        "outputId": "7f426397-652b-4a1d-9a39-9afe1b61d03c"
      },
      "source": [
        "%cd /content/OpenACC-CUDA-beginners/examples/OpenACC/vector-sum/"
      ],
      "execution_count": null,
      "outputs": [
        {
          "output_type": "stream",
          "text": [
            "/content/OpenACC-CUDA-beginners/examples/OpenACC/vector-sum\n"
          ],
          "name": "stdout"
        }
      ]
    },
    {
      "cell_type": "code",
      "metadata": {
        "colab": {
          "base_uri": "https://localhost:8080/"
        },
        "id": "jp0kdq0KK6TN",
        "outputId": "3b1757a7-62e9-4b95-8c75-52984987bc7a"
      },
      "source": [
        "!ls"
      ],
      "execution_count": null,
      "outputs": [
        {
          "output_type": "stream",
          "text": [
            "c  F90\tREADME.md  solution\n"
          ],
          "name": "stdout"
        }
      ]
    },
    {
      "cell_type": "code",
      "metadata": {
        "colab": {
          "base_uri": "https://localhost:8080/"
        },
        "id": "bdYqsvUZLt2I",
        "outputId": "e9aaefff-8dce-4a36-f056-3f9ad602472b"
      },
      "source": [
        "# Pick either C or Fortran:\n",
        "%cd c\n",
        "#%cd F90\n",
        "# Have a look at the solutions:\n",
        "#%cd solution"
      ],
      "execution_count": null,
      "outputs": [
        {
          "output_type": "stream",
          "text": [
            "/content/OpenACC-CUDA-beginners/examples/OpenACC/vector-sum/c\n"
          ],
          "name": "stdout"
        }
      ]
    },
    {
      "cell_type": "code",
      "metadata": {
        "colab": {
          "base_uri": "https://localhost:8080/"
        },
        "id": "y-NzTX5DMJDP",
        "outputId": "8a0c51af-7950-4f25-ce18-47eebe478ea3"
      },
      "source": [
        "!make"
      ],
      "execution_count": null,
      "outputs": [
        {
          "output_type": "stream",
          "text": [
            "make: Nothing to be done for 'all'.\n"
          ],
          "name": "stdout"
        }
      ]
    },
    {
      "cell_type": "markdown",
      "metadata": {
        "id": "1mX93fR7JLBT"
      },
      "source": [
        "### Double loop"
      ]
    },
    {
      "cell_type": "code",
      "metadata": {
        "colab": {
          "base_uri": "https://localhost:8080/"
        },
        "id": "-rCSF4vDJeqY",
        "outputId": "381fa0d3-3961-4a37-8c94-b701943dddbc"
      },
      "source": [
        "%cd /content/OpenACC-CUDA-beginners/examples/OpenACC/doubleloop/"
      ],
      "execution_count": null,
      "outputs": [
        {
          "output_type": "stream",
          "text": [
            "/content/OpenACC-CUDA-beginners/examples/OpenACC/doubleloop\n"
          ],
          "name": "stdout"
        }
      ]
    },
    {
      "cell_type": "code",
      "metadata": {
        "colab": {
          "base_uri": "https://localhost:8080/"
        },
        "id": "n7GS97rTJrKR",
        "outputId": "24d5c411-b04a-4594-a417-5d1838a29e74"
      },
      "source": [
        "!ls"
      ],
      "execution_count": null,
      "outputs": [
        {
          "output_type": "stream",
          "text": [
            "c  README.md  solution\n"
          ],
          "name": "stdout"
        }
      ]
    },
    {
      "cell_type": "code",
      "metadata": {
        "id": "Zj7HJKIPJk9h"
      },
      "source": [
        "%cd c\n",
        "# Have a look at the solutions:\n",
        "#%cd solution"
      ],
      "execution_count": null,
      "outputs": []
    },
    {
      "cell_type": "code",
      "metadata": {
        "id": "4juwACcOKLFo"
      },
      "source": [
        ""
      ],
      "execution_count": null,
      "outputs": []
    },
    {
      "cell_type": "markdown",
      "metadata": {
        "id": "PGlttDY0JOmj"
      },
      "source": [
        "### Jacobi"
      ]
    },
    {
      "cell_type": "code",
      "metadata": {
        "colab": {
          "base_uri": "https://localhost:8080/"
        },
        "id": "tqkZAsiwJfZn",
        "outputId": "f89cb1b4-fc68-4c19-d8ff-34f83321817a"
      },
      "source": [
        "%cd /content/OpenACC-CUDA-beginners/examples/OpenACC/jacobi/"
      ],
      "execution_count": null,
      "outputs": [
        {
          "output_type": "stream",
          "text": [
            "/content/OpenACC-CUDA-beginners/examples/OpenACC/jacobi\n"
          ],
          "name": "stdout"
        }
      ]
    },
    {
      "cell_type": "code",
      "metadata": {
        "colab": {
          "base_uri": "https://localhost:8080/"
        },
        "id": "yoflwIAbJ3DI",
        "outputId": "0fe41adb-1146-4c04-d714-7e4d936a32e9"
      },
      "source": [
        "!ls"
      ],
      "execution_count": null,
      "outputs": [
        {
          "output_type": "stream",
          "text": [
            "c  README.md  solution\n"
          ],
          "name": "stdout"
        }
      ]
    },
    {
      "cell_type": "code",
      "metadata": {
        "id": "Edy3_Jv2J9Tw"
      },
      "source": [
        "%cd c\n",
        "# Have a look at the solutions:\n",
        "#%cd solution"
      ],
      "execution_count": null,
      "outputs": []
    },
    {
      "cell_type": "markdown",
      "metadata": {
        "id": "vGCtKAZ4mwPI"
      },
      "source": [
        "### $\\pi$ Monte Carlo"
      ]
    },
    {
      "cell_type": "code",
      "metadata": {
        "colab": {
          "base_uri": "https://localhost:8080/"
        },
        "id": "f41pkQwPKAiP",
        "outputId": "93192c5f-42b5-4b5a-d983-488eb8f6390d"
      },
      "source": [
        "%cd /content/OpenACC-CUDA-beginners/examples/OpenACC/pi_monte_carlo/"
      ],
      "execution_count": null,
      "outputs": [
        {
          "output_type": "stream",
          "text": [
            "/content/OpenACC-CUDA-beginners/examples/OpenACC/pi_monte_carlo\n"
          ],
          "name": "stdout"
        }
      ]
    },
    {
      "cell_type": "code",
      "metadata": {
        "colab": {
          "base_uri": "https://localhost:8080/"
        },
        "id": "vUX3QJdvKAiQ",
        "outputId": "0b73bab0-5f44-4a18-e465-49351dfcc666"
      },
      "source": [
        "!ls"
      ],
      "execution_count": null,
      "outputs": [
        {
          "output_type": "stream",
          "text": [
            "c  README.md  solution\n"
          ],
          "name": "stdout"
        }
      ]
    },
    {
      "cell_type": "code",
      "metadata": {
        "id": "UB4m64NFKAiR"
      },
      "source": [
        "%cd c\n",
        "# Have a look at the solutions:\n",
        "#%cd solution"
      ],
      "execution_count": null,
      "outputs": []
    },
    {
      "cell_type": "code",
      "metadata": {
        "id": "VSw2X2IBJgq5"
      },
      "source": [
        ""
      ],
      "execution_count": null,
      "outputs": []
    },
    {
      "cell_type": "markdown",
      "metadata": {
        "id": "ZJt3FQPBJUda"
      },
      "source": [
        "### Heat equation"
      ]
    },
    {
      "cell_type": "code",
      "metadata": {
        "colab": {
          "base_uri": "https://localhost:8080/"
        },
        "id": "UqNjOS6EKEVS",
        "outputId": "5035e99a-e47f-44c2-9799-bcad82cf3ed8"
      },
      "source": [
        "%cd /content/OpenACC-CUDA-beginners/examples/OpenACC/HeatEquation/"
      ],
      "execution_count": null,
      "outputs": [
        {
          "output_type": "stream",
          "text": [
            "/content/OpenACC-CUDA-beginners/examples/OpenACC/HeatEquation\n"
          ],
          "name": "stdout"
        }
      ]
    },
    {
      "cell_type": "code",
      "metadata": {
        "colab": {
          "base_uri": "https://localhost:8080/"
        },
        "id": "u_ZZN7eAKEVT",
        "outputId": "92a5c931-7e47-4614-955e-c05b72383de8"
      },
      "source": [
        "!ls"
      ],
      "execution_count": null,
      "outputs": [
        {
          "output_type": "stream",
          "text": [
            "c  README.md  solution\n"
          ],
          "name": "stdout"
        }
      ]
    },
    {
      "cell_type": "code",
      "metadata": {
        "id": "QA7FJ_i1KEVT"
      },
      "source": [
        "%cd c\n",
        "# Have a look at the solutions:\n",
        "#%cd solution"
      ],
      "execution_count": null,
      "outputs": []
    },
    {
      "cell_type": "markdown",
      "metadata": {
        "id": "qUzmChLmPZR9"
      },
      "source": [
        "### Testing"
      ]
    },
    {
      "cell_type": "markdown",
      "metadata": {
        "id": "s4Pu7H4BwtH-"
      },
      "source": [
        "### Jacobi"
      ]
    },
    {
      "cell_type": "code",
      "metadata": {
        "colab": {
          "base_uri": "https://localhost:8080/"
        },
        "id": "6zID0zDgwqcr",
        "outputId": "38c2f15d-31be-4aa2-fae0-29ca2bb498cb"
      },
      "source": [
        "%cd /content/OpenACC-CUDA-beginners/examples/OpenACC/jacobi/c"
      ],
      "execution_count": null,
      "outputs": [
        {
          "output_type": "stream",
          "text": [
            "/content/OpenACC-CUDA-beginners/examples/OpenACC/jacobi/c\n"
          ],
          "name": "stdout"
        }
      ]
    },
    {
      "cell_type": "code",
      "metadata": {
        "id": "e0fq0cNzw4X6"
      },
      "source": [
        "# !gcc -g -O3 -fopenacc  jacobi.c -o jacobi  -lm\n",
        "!make"
      ],
      "execution_count": null,
      "outputs": []
    },
    {
      "cell_type": "code",
      "metadata": {
        "colab": {
          "base_uri": "https://localhost:8080/"
        },
        "id": "Tlx3pneux7bi",
        "outputId": "3f4f3287-e475-4f8b-bd7f-8745bb3b98fd"
      },
      "source": [
        "!./jacobi"
      ],
      "execution_count": null,
      "outputs": [
        {
          "output_type": "stream",
          "text": [
            "Stencil: nx,ny,maxiter,eps=2400 2400 1999 0.0005000000237487\n",
            ": norm, eps= 0.0035946369171143 0.0005000000237487\n",
            ": norm, eps= 0.0018006563186646 0.0005000000237487\n",
            ": norm, eps= 0.0012004375457764 0.0005000000237487\n",
            ": norm, eps= 0.0009000599384308 0.0005000000237487\n",
            ": norm, eps= 0.0007199943065643 0.0005000000237487\n",
            ": norm, eps= 0.0006000995635986 0.0005000000237487\n",
            ": norm, eps= 0.0005144774913788 0.0005000000237487\n",
            ": norm, eps= 0.0004987120628357 0.0005000000237487\n",
            "'Stencil: norm =0.0004987120628357 with iter = 722\n",
            "'Stencil: Time =9.2595739364624023 sec, MLups/s=449.1265258789062500\n"
          ],
          "name": "stdout"
        }
      ]
    },
    {
      "cell_type": "markdown",
      "metadata": {
        "id": "UizLm-2WyjRp"
      },
      "source": [
        "go to solution"
      ]
    },
    {
      "cell_type": "code",
      "metadata": {
        "colab": {
          "base_uri": "https://localhost:8080/"
        },
        "id": "XZBqFWQbym-q",
        "outputId": "55f8b8a7-9a7d-4e36-dcee-f32b942739dd"
      },
      "source": [
        "%cd ../solution/c"
      ],
      "execution_count": null,
      "outputs": [
        {
          "output_type": "stream",
          "text": [
            "/content/OpenACC-CUDA-beginners/examples/OpenACC/jacobi/solution/c\n"
          ],
          "name": "stdout"
        }
      ]
    },
    {
      "cell_type": "code",
      "metadata": {
        "colab": {
          "base_uri": "https://localhost:8080/"
        },
        "id": "aS5vT-tMy2cO",
        "outputId": "97fe6e1e-e35e-411a-c1ad-71363e360f63"
      },
      "source": [
        "# !gcc -g -O3 -fopenacc  jacobi.c -o jacobi  -lm\n",
        "!make"
      ],
      "execution_count": null,
      "outputs": [
        {
          "output_type": "stream",
          "text": [
            "\u001b[01m\u001b[Kjacobi.c:\u001b[m\u001b[K In function ‘\u001b[01m\u001b[Kusage\u001b[m\u001b[K’:\n",
            "\u001b[01m\u001b[Kjacobi.c:85:6:\u001b[m\u001b[K \u001b[01;35m\u001b[Kwarning: \u001b[m\u001b[Ktype of ‘\u001b[01m\u001b[Kpname\u001b[m\u001b[K’ defaults to ‘\u001b[01m\u001b[Kint\u001b[m\u001b[K’ [\u001b[01;35m\u001b[K-Wimplicit-int\u001b[m\u001b[K]\n",
            " void \u001b[01;35m\u001b[Kusage\u001b[m\u001b[K(pname)\n",
            "      \u001b[01;35m\u001b[K^~~~~\u001b[m\u001b[K\n",
            "\u001b[01m\u001b[Kjacobi.c:87:21:\u001b[m\u001b[K \u001b[01;35m\u001b[Kwarning: \u001b[m\u001b[Kformat ‘\u001b[01m\u001b[K%s\u001b[m\u001b[K’ expects argument of type ‘\u001b[01m\u001b[Kchar *\u001b[m\u001b[K’, but argument 2 has type ‘\u001b[01m\u001b[Kint\u001b[m\u001b[K’ [\u001b[01;35m\u001b[K-Wformat=\u001b[m\u001b[K]\n",
            "     printf(\"Usage: \u001b[01;35m\u001b[K%s\u001b[m\u001b[K [nx] [ny]\", pname);\n",
            "                    \u001b[01;35m\u001b[K~^\u001b[m\u001b[K\n",
            "                    \u001b[32m\u001b[K%d\u001b[m\u001b[K\n"
          ],
          "name": "stdout"
        }
      ]
    },
    {
      "cell_type": "code",
      "metadata": {
        "colab": {
          "base_uri": "https://localhost:8080/"
        },
        "id": "zn6e8iUwzEnJ",
        "outputId": "4c301c3a-50b0-41b6-e83d-e725394a6e60"
      },
      "source": [
        "!./jacobi"
      ],
      "execution_count": null,
      "outputs": [
        {
          "output_type": "stream",
          "text": [
            "Stencil: nx,ny,maxiter,eps=2400 2400 1999 0.0005000000237487\n",
            ": norm, eps= 0.0035946369171143 0.0005000000237487\n",
            ": norm, eps= 0.0018006563186646 0.0005000000237487\n",
            ": norm, eps= 0.0012004375457764 0.0005000000237487\n",
            ": norm, eps= 0.0009000599384308 0.0005000000237487\n",
            ": norm, eps= 0.0007199943065643 0.0005000000237487\n",
            ": norm, eps= 0.0006000995635986 0.0005000000237487\n",
            ": norm, eps= 0.0005144774913788 0.0005000000237487\n",
            ": norm, eps= 0.0004987120628357 0.0005000000237487\n",
            "'Stencil: norm =0.0004987120628357 with iter = 722\n",
            "'Stencil: Time =30.6950168609619141 sec, MLups/s=135.4851837158203125\n"
          ],
          "name": "stdout"
        }
      ]
    },
    {
      "cell_type": "markdown",
      "metadata": {
        "id": "aPHXwSoRvwXF"
      },
      "source": [
        "### Heat equation"
      ]
    },
    {
      "cell_type": "code",
      "metadata": {
        "colab": {
          "base_uri": "https://localhost:8080/"
        },
        "id": "jqGfrNx8PYU2",
        "outputId": "041281f0-dc30-4a5a-e6ca-f2a04b4618d3"
      },
      "source": [
        "%cd /content/OpenACC-CUDA-beginners/examples/OpenACC/HeatEquation/c"
      ],
      "execution_count": null,
      "outputs": [
        {
          "output_type": "stream",
          "text": [
            "/content/OpenACC-CUDA-beginners/examples/OpenACC/HeatEquation/c\n"
          ],
          "name": "stdout"
        }
      ]
    },
    {
      "cell_type": "code",
      "metadata": {
        "colab": {
          "base_uri": "https://localhost:8080/"
        },
        "id": "G94izfiNPeRa",
        "outputId": "3733c31f-5918-469b-e9af-4b3ce676c03c"
      },
      "source": [
        "!make"
      ],
      "execution_count": null,
      "outputs": [
        {
          "output_type": "stream",
          "text": [
            "gcc -g -O3 -fopenacc -c heat_equation.c -o heat_equation.o\n",
            "gcc -g -O3 -fopenacc heat_equation.o   -o heat\n"
          ],
          "name": "stdout"
        }
      ]
    },
    {
      "cell_type": "code",
      "metadata": {
        "id": "Ig9W8EqJP6jS",
        "colab": {
          "base_uri": "https://localhost:8080/"
        },
        "outputId": "887723a2-d74a-419c-b2e4-029a247ac565"
      },
      "source": [
        "!./heat"
      ],
      "execution_count": null,
      "outputs": [
        {
          "output_type": "stream",
          "text": [
            "Maximum temperture is 65.000000 at 0 steps \n",
            "Maximum temperture is 64.999382 at 100 steps \n",
            "Maximum temperture is 64.776901 at 200 steps \n",
            "Maximum temperture is 63.544262 at 300 steps \n",
            "Maximum temperture is 61.310547 at 400 steps \n"
          ],
          "name": "stdout"
        }
      ]
    },
    {
      "cell_type": "markdown",
      "metadata": {
        "id": "-8m2pVcVwC5r"
      },
      "source": [
        "go to solution"
      ]
    },
    {
      "cell_type": "code",
      "metadata": {
        "colab": {
          "base_uri": "https://localhost:8080/"
        },
        "id": "9dYtyLuOwQB_",
        "outputId": "876a15ad-cd6b-497d-80bf-77dc352cb772"
      },
      "source": [
        "%cd ../solution/c"
      ],
      "execution_count": null,
      "outputs": [
        {
          "output_type": "stream",
          "text": [
            "/content/OpenACC-CUDA-beginners/examples/OpenACC/HeatEquation/solution/c\n"
          ],
          "name": "stdout"
        }
      ]
    },
    {
      "cell_type": "code",
      "metadata": {
        "id": "34alAFmXw8fG"
      },
      "source": [
        "!gcc -fopenacc -o heat_equation_openacc_1 /content/OpenACC-CUDA-beginners/examples/OpenACC/HeatEquation/solution/c/heat_equation_openacc_1.c"
      ],
      "execution_count": null,
      "outputs": []
    },
    {
      "cell_type": "code",
      "metadata": {
        "colab": {
          "base_uri": "https://localhost:8080/"
        },
        "id": "W7MlYgA2yioS",
        "outputId": "7fd3e032-eff2-4fe0-dd98-25636fdb1468"
      },
      "source": [
        "!./heat_equation_openacc_1"
      ],
      "execution_count": null,
      "outputs": [
        {
          "output_type": "stream",
          "text": [
            "Maximum temperture is 65.000000 at 0 steps \n",
            "Maximum temperture is 64.999382 at 100 steps \n",
            "Maximum temperture is 64.776901 at 200 steps \n",
            "Maximum temperture is 63.544262 at 300 steps \n",
            "Maximum temperture is 61.310547 at 400 steps \n"
          ],
          "name": "stdout"
        }
      ]
    },
    {
      "cell_type": "markdown",
      "metadata": {
        "id": "bAlNWf3blxI7"
      },
      "source": [
        "## CUDA"
      ]
    },
    {
      "cell_type": "markdown",
      "metadata": {
        "id": "x0By9cPCShlb"
      },
      "source": [
        "### DeviceList"
      ]
    },
    {
      "cell_type": "code",
      "metadata": {
        "colab": {
          "base_uri": "https://localhost:8080/"
        },
        "id": "H_5pzYu-Sggk",
        "outputId": "deab857f-af5c-42fa-e2f1-e081487b90fb"
      },
      "source": [
        "%cd /content/OpenACC-CUDA-beginners/examples/CUDA/DeviceList"
      ],
      "execution_count": null,
      "outputs": [
        {
          "output_type": "stream",
          "text": [
            "/content/OpenACC-CUDA-beginners/examples/CUDA/DeviceList\n"
          ],
          "name": "stdout"
        }
      ]
    },
    {
      "cell_type": "code",
      "metadata": {
        "colab": {
          "base_uri": "https://localhost:8080/"
        },
        "id": "pWVOmVCcSmgJ",
        "outputId": "b489ca19-e73c-47d9-9022-530f0d9b8222"
      },
      "source": [
        "!ls"
      ],
      "execution_count": null,
      "outputs": [
        {
          "output_type": "stream",
          "text": [
            "list_devices.cpp  list_devices_ref.cu  list_devices_ref_extended.cu\n"
          ],
          "name": "stdout"
        }
      ]
    },
    {
      "cell_type": "markdown",
      "metadata": {
        "id": "xuSTw5cuStTT"
      },
      "source": [
        "### VectorAdd"
      ]
    },
    {
      "cell_type": "code",
      "metadata": {
        "colab": {
          "base_uri": "https://localhost:8080/"
        },
        "id": "Ns2t2GbtSsrZ",
        "outputId": "9aee19bf-0917-4f41-d706-0bdb0778db44"
      },
      "source": [
        "%cd /content/OpenACC-CUDA-beginners/examples/CUDA/VectorAdd/"
      ],
      "execution_count": null,
      "outputs": [
        {
          "output_type": "stream",
          "text": [
            "/content/OpenACC-CUDA-beginners/examples/CUDA/VectorAdd\n"
          ],
          "name": "stdout"
        }
      ]
    },
    {
      "cell_type": "code",
      "metadata": {
        "colab": {
          "base_uri": "https://localhost:8080/"
        },
        "id": "JXdmoHspSz3l",
        "outputId": "ed4ac604-5729-405f-ee1c-e0cdbcdc202f"
      },
      "source": [
        "!ls"
      ],
      "execution_count": null,
      "outputs": [
        {
          "output_type": "stream",
          "text": [
            "vector_add.cpp\t   vector_add_gpu_data_management.cu\n",
            "vector_add_gpu.cu  vector_add_gpu_ref.cu\n"
          ],
          "name": "stdout"
        }
      ]
    },
    {
      "cell_type": "markdown",
      "metadata": {
        "id": "9FA3t0s5S5YP"
      },
      "source": [
        "### VectorDotProduct"
      ]
    },
    {
      "cell_type": "code",
      "metadata": {
        "colab": {
          "base_uri": "https://localhost:8080/"
        },
        "id": "345b-WhYS5YP",
        "outputId": "a0fcc704-84d9-42f7-f45a-2f687cf9452b"
      },
      "source": [
        "%cd /content/OpenACC-CUDA-beginners/examples/CUDA/VectorDotProduct/"
      ],
      "execution_count": null,
      "outputs": [
        {
          "output_type": "stream",
          "text": [
            "/content/OpenACC-CUDA-beginners/examples/CUDA/VectorDotProduct\n"
          ],
          "name": "stdout"
        }
      ]
    },
    {
      "cell_type": "code",
      "metadata": {
        "colab": {
          "base_uri": "https://localhost:8080/"
        },
        "id": "fZQMPQb4S5YQ",
        "outputId": "e6463945-3375-4d74-fa68-12f37f2e6e2a"
      },
      "source": [
        "!ls"
      ],
      "execution_count": null,
      "outputs": [
        {
          "output_type": "stream",
          "text": [
            "vector_dot_product.cpp\t   vector_dot_product_gpu_ref.cu\n",
            "vector_dot_product_gpu.cu\n"
          ],
          "name": "stdout"
        }
      ]
    },
    {
      "cell_type": "markdown",
      "metadata": {
        "id": "0vb8XjHUTA5W"
      },
      "source": [
        "### MatrixAdd"
      ]
    },
    {
      "cell_type": "code",
      "metadata": {
        "colab": {
          "base_uri": "https://localhost:8080/"
        },
        "id": "eNTrxEEuTA5X",
        "outputId": "1ec6adc7-d6be-490c-e566-2a463e3839d3"
      },
      "source": [
        "%cd /content/OpenACC-CUDA-beginners/examples/CUDA/MatrixAdd/"
      ],
      "execution_count": null,
      "outputs": [
        {
          "output_type": "stream",
          "text": [
            "/content/OpenACC-CUDA-beginners/examples/CUDA/MatrixAdd\n"
          ],
          "name": "stdout"
        }
      ]
    },
    {
      "cell_type": "code",
      "metadata": {
        "colab": {
          "base_uri": "https://localhost:8080/"
        },
        "id": "Hn5zEqJ5TA5Y",
        "outputId": "95294c82-df83-444c-a7aa-1084ac918952"
      },
      "source": [
        "!ls"
      ],
      "execution_count": null,
      "outputs": [
        {
          "output_type": "stream",
          "text": [
            "matrix_add.cpp\tmatrix_add_gpu.cu  matrix_add_gpu_ref.cu\n"
          ],
          "name": "stdout"
        }
      ]
    },
    {
      "cell_type": "markdown",
      "metadata": {
        "id": "kjmBGwtqTGyz"
      },
      "source": [
        "### Heat Equation"
      ]
    },
    {
      "cell_type": "code",
      "metadata": {
        "colab": {
          "base_uri": "https://localhost:8080/"
        },
        "id": "boUhbj-sTGyz",
        "outputId": "f10c6ad6-da52-48dc-d627-3bc4dbff2217"
      },
      "source": [
        "%cd /content/OpenACC-CUDA-beginners/examples/CUDA/HeatEquation/"
      ],
      "execution_count": null,
      "outputs": [
        {
          "output_type": "stream",
          "text": [
            "/content/OpenACC-CUDA-beginners/examples/CUDA/HeatEquation\n"
          ],
          "name": "stdout"
        }
      ]
    },
    {
      "cell_type": "code",
      "metadata": {
        "colab": {
          "base_uri": "https://localhost:8080/"
        },
        "id": "pYdj-TOcTGy0",
        "outputId": "383655c4-692d-4109-ae48-27a18d14616e"
      },
      "source": [
        "!ls"
      ],
      "execution_count": null,
      "outputs": [
        {
          "output_type": "stream",
          "text": [
            "compile.sh\t\theat_equation_gpu_2_remove_copy_calls.cu  pngwriter.h\n",
            "heat_equation.cpp\theat_equation_gpu_3_shared_memory.cu\n",
            "heat_equation_gpu_1.cu\tpngwriter.cpp\n"
          ],
          "name": "stdout"
        }
      ]
    },
    {
      "cell_type": "code",
      "metadata": {
        "id": "wc5d7zXGpxfv"
      },
      "source": [
        ""
      ],
      "execution_count": null,
      "outputs": []
    }
  ]
}