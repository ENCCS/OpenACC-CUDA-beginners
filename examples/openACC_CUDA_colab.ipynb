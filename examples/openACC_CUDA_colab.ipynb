{
  "nbformat": 4,
  "nbformat_minor": 0,
  "metadata": {
    "colab": {
      "name": "openACC-CUDA-colab.ipynb",
      "provenance": [],
      "collapsed_sections": [],
      "toc_visible": true
    },
    "kernelspec": {
      "name": "python3",
      "display_name": "Python 3"
    },
    "language_info": {
      "name": "python"
    },
    "accelerator": "GPU"
  },
  "cells": [
    {
      "cell_type": "markdown",
      "metadata": {
        "id": "D6BqLpZjlzBM"
      },
      "source": [
        "# OpenACC-CUDA workshop"
      ]
    },
    {
      "cell_type": "code",
      "metadata": {
        "id": "8O5Zv1N5ovZi",
        "colab": {
          "base_uri": "https://localhost:8080/"
        },
        "outputId": "1289b74e-f246-4aaf-8b69-b7c215cf76af"
      },
      "source": [
        "!pwd"
      ],
      "execution_count": 1,
      "outputs": [
        {
          "output_type": "stream",
          "text": [
            "/content\n"
          ],
          "name": "stdout"
        }
      ]
    },
    {
      "cell_type": "code",
      "metadata": {
        "colab": {
          "base_uri": "https://localhost:8080/"
        },
        "id": "qJIpAOBWpHOx",
        "outputId": "08fed918-646c-477f-ae5d-d66aed1a123f"
      },
      "source": [
        "!git clone https://github.com/ENCCS/OpenACC-CUDA-beginners.git"
      ],
      "execution_count": 1,
      "outputs": [
        {
          "output_type": "stream",
          "text": [
            "Cloning into 'OpenACC-CUDA-beginners'...\n",
            "remote: Enumerating objects: 803, done.\u001b[K\n",
            "remote: Counting objects: 100% (48/48), done.\u001b[K\n",
            "remote: Compressing objects: 100% (20/20), done.\u001b[K\n",
            "remote: Total 803 (delta 31), reused 30 (delta 28), pack-reused 755\u001b[K\n",
            "Receiving objects: 100% (803/803), 12.76 MiB | 38.32 MiB/s, done.\n",
            "Resolving deltas: 100% (337/337), done.\n"
          ],
          "name": "stdout"
        }
      ]
    },
    {
      "cell_type": "code",
      "metadata": {
        "id": "t44HqrHsls5x",
        "colab": {
          "base_uri": "https://localhost:8080/"
        },
        "outputId": "749aec90-23cc-4005-f85a-3f1bbd96498c"
      },
      "source": [
        "!ls"
      ],
      "execution_count": 3,
      "outputs": [
        {
          "output_type": "stream",
          "text": [
            "OpenACC-CUDA-beginners\tsample_data\n"
          ],
          "name": "stdout"
        }
      ]
    },
    {
      "cell_type": "markdown",
      "metadata": {
        "id": "jeH9ThM7luF1"
      },
      "source": [
        "## OpenACC"
      ]
    },
    {
      "cell_type": "markdown",
      "metadata": {
        "id": "A6wNo7E9JF0D"
      },
      "source": [
        "### Hello World"
      ]
    },
    {
      "cell_type": "code",
      "metadata": {
        "colab": {
          "base_uri": "https://localhost:8080/"
        },
        "id": "qf-7cP6EJdXD",
        "outputId": "59343380-51bb-4a13-9802-3d79e02d1690"
      },
      "source": [
        "%cd /content/OpenACC-CUDA-beginners/examples/OpenACC/hello-world/"
      ],
      "execution_count": 16,
      "outputs": [
        {
          "output_type": "stream",
          "text": [
            "/content/OpenACC-CUDA-beginners/examples/OpenACC/hello-world\n"
          ],
          "name": "stdout"
        }
      ]
    },
    {
      "cell_type": "code",
      "metadata": {
        "colab": {
          "base_uri": "https://localhost:8080/"
        },
        "id": "dS3XhPJHKPy7",
        "outputId": "cf206b11-9025-415d-ec36-973f79f716ba"
      },
      "source": [
        "!ls"
      ],
      "execution_count": 17,
      "outputs": [
        {
          "output_type": "stream",
          "text": [
            "compile.sh  hello.c  hello.F90\tjob.sh\tREADME.md\n"
          ],
          "name": "stdout"
        }
      ]
    },
    {
      "cell_type": "markdown",
      "metadata": {
        "id": "LknjXCxaKtLi"
      },
      "source": [
        "Compile and run C version"
      ]
    },
    {
      "cell_type": "code",
      "metadata": {
        "id": "EEuFYeB9KSV-"
      },
      "source": [
        "!gcc -fopenacc -o hello_c hello.c"
      ],
      "execution_count": 22,
      "outputs": []
    },
    {
      "cell_type": "code",
      "metadata": {
        "colab": {
          "base_uri": "https://localhost:8080/"
        },
        "id": "iVzDTFLpKcSl",
        "outputId": "15f40dbc-2a51-47d0-eaf5-d064894b72e5"
      },
      "source": [
        "!./hello_c"
      ],
      "execution_count": 23,
      "outputs": [
        {
          "output_type": "stream",
          "text": [
            "Hello world from OpenACC\n",
            "Number of available OpenACC devices: 1\n",
            "Type of available OpenACC devices: 2\n"
          ],
          "name": "stdout"
        }
      ]
    },
    {
      "cell_type": "markdown",
      "metadata": {
        "id": "dRFzmX4CKxyU"
      },
      "source": [
        "Compile and run Fortran version"
      ]
    },
    {
      "cell_type": "code",
      "metadata": {
        "id": "qeYvrnh4Kgvm"
      },
      "source": [
        "!gfortran -fopenacc -o hello_f hello.F90"
      ],
      "execution_count": 24,
      "outputs": []
    },
    {
      "cell_type": "code",
      "metadata": {
        "colab": {
          "base_uri": "https://localhost:8080/"
        },
        "id": "x6cvbnA2KpAW",
        "outputId": "53401a8c-cd21-4e27-e40b-94038524843f"
      },
      "source": [
        "!./hello_f"
      ],
      "execution_count": 25,
      "outputs": [
        {
          "output_type": "stream",
          "text": [
            " Hello world from OpenACC\n",
            "Number of available OpenACC devices: 1\n",
            "Type of available OpenACC devices: 2\n"
          ],
          "name": "stdout"
        }
      ]
    },
    {
      "cell_type": "markdown",
      "metadata": {
        "id": "u1JryIrfJKsx"
      },
      "source": [
        "### Vector sum"
      ]
    },
    {
      "cell_type": "code",
      "metadata": {
        "colab": {
          "base_uri": "https://localhost:8080/"
        },
        "id": "MpfFV2rlJeDm",
        "outputId": "f47e6958-d497-4793-ac6b-fa7e37c3e97c"
      },
      "source": [
        "%cd /content/OpenACC-CUDA-beginners/examples/OpenACC/vector-sum/"
      ],
      "execution_count": 28,
      "outputs": [
        {
          "output_type": "stream",
          "text": [
            "/content/OpenACC-CUDA-beginners/examples/OpenACC/vector-sum\n"
          ],
          "name": "stdout"
        }
      ]
    },
    {
      "cell_type": "code",
      "metadata": {
        "colab": {
          "base_uri": "https://localhost:8080/"
        },
        "id": "jp0kdq0KK6TN",
        "outputId": "fc983e0a-0c32-4fe6-eb78-9d90b70e4afa"
      },
      "source": [
        "!ls"
      ],
      "execution_count": 29,
      "outputs": [
        {
          "output_type": "stream",
          "text": [
            "c  F90\tREADME.md  solution\n"
          ],
          "name": "stdout"
        }
      ]
    },
    {
      "cell_type": "code",
      "metadata": {
        "colab": {
          "base_uri": "https://localhost:8080/"
        },
        "id": "bdYqsvUZLt2I",
        "outputId": "a6ef9f55-4b4a-47a2-e41f-4b576d826d92"
      },
      "source": [
        "# Pick either C or Fortran:\n",
        "%cd c\n",
        "#%cd F90\n",
        "# Have a look at the solutions:\n",
        "#%cd solution"
      ],
      "execution_count": 31,
      "outputs": [
        {
          "output_type": "stream",
          "text": [
            "/content/OpenACC-CUDA-beginners/examples/OpenACC/vector-sum/c\n"
          ],
          "name": "stdout"
        }
      ]
    },
    {
      "cell_type": "code",
      "metadata": {
        "colab": {
          "base_uri": "https://localhost:8080/"
        },
        "id": "y-NzTX5DMJDP",
        "outputId": "fbff7e9f-da5d-4518-c57b-8cafe1280aff"
      },
      "source": [
        "!make"
      ],
      "execution_count": 32,
      "outputs": [
        {
          "output_type": "stream",
          "text": [
            "gcc -g -O3 -fopenacc sum.c -o sum \n"
          ],
          "name": "stdout"
        }
      ]
    },
    {
      "cell_type": "markdown",
      "metadata": {
        "id": "1mX93fR7JLBT"
      },
      "source": [
        "### Double loop"
      ]
    },
    {
      "cell_type": "code",
      "metadata": {
        "colab": {
          "base_uri": "https://localhost:8080/"
        },
        "id": "-rCSF4vDJeqY",
        "outputId": "35b26496-f114-464f-a012-b1ef876797eb"
      },
      "source": [
        "%cd /content/OpenACC-CUDA-beginners/examples/OpenACC/doubleloop/"
      ],
      "execution_count": 4,
      "outputs": [
        {
          "output_type": "stream",
          "text": [
            "/content/OpenACC-CUDA-beginners/examples/OpenACC/doubleloop\n"
          ],
          "name": "stdout"
        }
      ]
    },
    {
      "cell_type": "code",
      "metadata": {
        "colab": {
          "base_uri": "https://localhost:8080/"
        },
        "id": "n7GS97rTJrKR",
        "outputId": "990d57c5-ebce-4f8b-a879-4803bfe59d92"
      },
      "source": [
        "!ls"
      ],
      "execution_count": 5,
      "outputs": [
        {
          "output_type": "stream",
          "text": [
            "c  F90\tREADME.md  solution\n"
          ],
          "name": "stdout"
        }
      ]
    },
    {
      "cell_type": "code",
      "metadata": {
        "id": "Zj7HJKIPJk9h"
      },
      "source": [
        "# Pick either C or Fortran:\n",
        "#%cd c\n",
        "#%cd F90\n",
        "# Have a look at the solutions:\n",
        "#%cd solution"
      ],
      "execution_count": 6,
      "outputs": []
    },
    {
      "cell_type": "code",
      "metadata": {
        "id": "4juwACcOKLFo"
      },
      "source": [
        ""
      ],
      "execution_count": null,
      "outputs": []
    },
    {
      "cell_type": "markdown",
      "metadata": {
        "id": "PGlttDY0JOmj"
      },
      "source": [
        "### Jacobi"
      ]
    },
    {
      "cell_type": "code",
      "metadata": {
        "colab": {
          "base_uri": "https://localhost:8080/"
        },
        "id": "tqkZAsiwJfZn",
        "outputId": "57c71765-dbd5-425a-c42a-454ea6bdd18a"
      },
      "source": [
        "%cd /content/OpenACC-CUDA-beginners/examples/OpenACC/jacobi/"
      ],
      "execution_count": 9,
      "outputs": [
        {
          "output_type": "stream",
          "text": [
            "/content/OpenACC-CUDA-beginners/examples/OpenACC/jacobi\n"
          ],
          "name": "stdout"
        }
      ]
    },
    {
      "cell_type": "code",
      "metadata": {
        "colab": {
          "base_uri": "https://localhost:8080/"
        },
        "id": "yoflwIAbJ3DI",
        "outputId": "d87aa2aa-36e6-40a4-e732-8851bd20e7ca"
      },
      "source": [
        "!ls"
      ],
      "execution_count": 10,
      "outputs": [
        {
          "output_type": "stream",
          "text": [
            "c  F90\tREADME.md  solution\n"
          ],
          "name": "stdout"
        }
      ]
    },
    {
      "cell_type": "code",
      "metadata": {
        "id": "Edy3_Jv2J9Tw"
      },
      "source": [
        "# Pick either C or Fortran:\n",
        "#%cd c\n",
        "#%cd F90\n",
        "# Have a look at the solutions:\n",
        "#%cd solution"
      ],
      "execution_count": null,
      "outputs": []
    },
    {
      "cell_type": "markdown",
      "metadata": {
        "id": "vGCtKAZ4mwPI"
      },
      "source": [
        "### $\\pi$ Monte Carlo"
      ]
    },
    {
      "cell_type": "code",
      "metadata": {
        "colab": {
          "base_uri": "https://localhost:8080/"
        },
        "id": "f41pkQwPKAiP",
        "outputId": "56ea089c-aa81-48fe-ca6b-6e9c751c29d3"
      },
      "source": [
        "%cd /content/OpenACC-CUDA-beginners/examples/OpenACC/pi_monte_carlo/"
      ],
      "execution_count": 11,
      "outputs": [
        {
          "output_type": "stream",
          "text": [
            "/content/OpenACC-CUDA-beginners/examples/OpenACC/pi_monte_carlo\n"
          ],
          "name": "stdout"
        }
      ]
    },
    {
      "cell_type": "code",
      "metadata": {
        "colab": {
          "base_uri": "https://localhost:8080/"
        },
        "id": "vUX3QJdvKAiQ",
        "outputId": "ec80946b-d1e9-4810-ad15-dd1bdad4bcdd"
      },
      "source": [
        "!ls"
      ],
      "execution_count": 12,
      "outputs": [
        {
          "output_type": "stream",
          "text": [
            "c  F90\tREADME.md  solution\n"
          ],
          "name": "stdout"
        }
      ]
    },
    {
      "cell_type": "code",
      "metadata": {
        "id": "UB4m64NFKAiR"
      },
      "source": [
        "# Pick either C or Fortran:\n",
        "#%cd c\n",
        "#%cd F90\n",
        "# Have a look at the solutions:\n",
        "#%cd solution"
      ],
      "execution_count": 13,
      "outputs": []
    },
    {
      "cell_type": "code",
      "metadata": {
        "id": "VSw2X2IBJgq5"
      },
      "source": [
        ""
      ],
      "execution_count": null,
      "outputs": []
    },
    {
      "cell_type": "markdown",
      "metadata": {
        "id": "ZJt3FQPBJUda"
      },
      "source": [
        "### Heat equation"
      ]
    },
    {
      "cell_type": "code",
      "metadata": {
        "colab": {
          "base_uri": "https://localhost:8080/"
        },
        "id": "UqNjOS6EKEVS",
        "outputId": "dc40ef10-be09-4fe7-d418-59856ee02142"
      },
      "source": [
        "%cd /content/OpenACC-CUDA-beginners/examples/OpenACC/HeatEquation/"
      ],
      "execution_count": 42,
      "outputs": [
        {
          "output_type": "stream",
          "text": [
            "/content/OpenACC-CUDA-beginners/examples/OpenACC/HeatEquation\n"
          ],
          "name": "stdout"
        }
      ]
    },
    {
      "cell_type": "code",
      "metadata": {
        "colab": {
          "base_uri": "https://localhost:8080/"
        },
        "id": "u_ZZN7eAKEVT",
        "outputId": "e7141e77-6acc-40fc-afef-09caa4187280"
      },
      "source": [
        "!ls"
      ],
      "execution_count": 43,
      "outputs": [
        {
          "output_type": "stream",
          "text": [
            "c  F90\tREADME.md  solution\n"
          ],
          "name": "stdout"
        }
      ]
    },
    {
      "cell_type": "code",
      "metadata": {
        "id": "QA7FJ_i1KEVT"
      },
      "source": [
        "# Pick either C or Fortran:\n",
        "#%d c\n",
        "#%cd F90\n",
        "# Have a look at the solutions:\n",
        "#%cd solution"
      ],
      "execution_count": null,
      "outputs": []
    },
    {
      "cell_type": "markdown",
      "metadata": {
        "id": "qUzmChLmPZR9"
      },
      "source": [
        "### Testing"
      ]
    },
    {
      "cell_type": "code",
      "metadata": {
        "colab": {
          "base_uri": "https://localhost:8080/"
        },
        "id": "jqGfrNx8PYU2",
        "outputId": "343ead84-4d56-4af1-8636-291706de2af4"
      },
      "source": [
        "%cd ../../c/"
      ],
      "execution_count": 46,
      "outputs": [
        {
          "output_type": "stream",
          "text": [
            "/content/OpenACC-CUDA-beginners/examples/OpenACC/HeatEquation/c\n"
          ],
          "name": "stdout"
        }
      ]
    },
    {
      "cell_type": "code",
      "metadata": {
        "colab": {
          "base_uri": "https://localhost:8080/"
        },
        "id": "G94izfiNPeRa",
        "outputId": "7a3e6e1f-e8ce-4cec-f841-5ae2714116c6"
      },
      "source": [
        "!make"
      ],
      "execution_count": 47,
      "outputs": [
        {
          "output_type": "stream",
          "text": [
            "gcc -g -O3 -fopenacc -c pngwriter.c -o pngwriter.o\n",
            "gcc -g -O3 -fopenacc -c heat_equation.c -o heat_equation.o\n",
            "gcc -g -O3 -fopenacc pngwriter.o heat_equation.o  -lpng -o heat\n"
          ],
          "name": "stdout"
        }
      ]
    },
    {
      "cell_type": "code",
      "metadata": {
        "id": "Ig9W8EqJP6jS"
      },
      "source": [
        "!./heat"
      ],
      "execution_count": 50,
      "outputs": []
    },
    {
      "cell_type": "code",
      "metadata": {
        "colab": {
          "base_uri": "https://localhost:8080/"
        },
        "id": "34alAFmXw8fG",
        "outputId": "42f0d6ab-5a15-4448-bc2a-b081e60691de"
      },
      "source": [
        "!gcc -fopenacc -o heat_equation_openacc_1 /content/OpenACC-CUDA-beginners/examples/OpenACC/HeatEquation/solution/c/heat_equation_openacc_1.c"
      ],
      "execution_count": null,
      "outputs": [
        {
          "output_type": "stream",
          "text": [
            "\u001b[01m\u001b[K/content/OpenACC-CUDA-beginners/examples/OpenACC/HeatEquation/solution/c/heat_equation_openacc_1.c:\u001b[m\u001b[K In function ‘\u001b[01m\u001b[Kmain\u001b[m\u001b[K’:\n",
            "\u001b[01m\u001b[K/content/OpenACC-CUDA-beginners/examples/OpenACC/HeatEquation/solution/c/heat_equation_openacc_1.c:96:45:\u001b[m\u001b[K \u001b[01;31m\u001b[Kerror: \u001b[m\u001b[Karray section is not contiguous in ‘\u001b[01m\u001b[Kmap\u001b[m\u001b[K’ clause\n",
            " #pragma acc parallel loop independent copyin\u001b[01;31m\u001b[K(\u001b[m\u001b[KUn[0:nx][0:ny]) copyout(Unp1[0:nx][0:ny])\n",
            "                                             \u001b[01;31m\u001b[K^\u001b[m\u001b[K\n",
            "\u001b[01m\u001b[K/content/OpenACC-CUDA-beginners/examples/OpenACC/HeatEquation/solution/c/heat_equation_openacc_1.c:96:69:\u001b[m\u001b[K \u001b[01;31m\u001b[Kerror: \u001b[m\u001b[Karray section is not contiguous in ‘\u001b[01m\u001b[Kmap\u001b[m\u001b[K’ clause\n",
            " #pragma acc parallel loop independent copyin(Un[0:nx][0:ny]) copyout\u001b[01;31m\u001b[K(\u001b[m\u001b[KUnp1[0:nx][0:ny])\n",
            "                                                                     \u001b[01;31m\u001b[K^\u001b[m\u001b[K\n"
          ],
          "name": "stdout"
        }
      ]
    },
    {
      "cell_type": "code",
      "metadata": {
        "colab": {
          "base_uri": "https://localhost:8080/"
        },
        "id": "W7MlYgA2yioS",
        "outputId": "aaf25638-6602-42e8-d6ee-e3c0f45d9fec"
      },
      "source": [
        "!make -f /content/OpenACC-CUDA-beginners/examples/OpenACC/HeatEquation/solution/F90/Makefile"
      ],
      "execution_count": null,
      "outputs": [
        {
          "output_type": "stream",
          "text": [
            "make: *** No rule to make target 'pngwriter.c', needed by 'pngwriter.o'.  Stop.\n"
          ],
          "name": "stdout"
        }
      ]
    },
    {
      "cell_type": "markdown",
      "metadata": {
        "id": "bAlNWf3blxI7"
      },
      "source": [
        "## CUDA"
      ]
    },
    {
      "cell_type": "markdown",
      "metadata": {
        "id": "x0By9cPCShlb"
      },
      "source": [
        "### DeviceList"
      ]
    },
    {
      "cell_type": "code",
      "metadata": {
        "colab": {
          "base_uri": "https://localhost:8080/"
        },
        "id": "H_5pzYu-Sggk",
        "outputId": "deab857f-af5c-42fa-e2f1-e081487b90fb"
      },
      "source": [
        "%cd /content/OpenACC-CUDA-beginners/examples/CUDA/DeviceList"
      ],
      "execution_count": 2,
      "outputs": [
        {
          "output_type": "stream",
          "text": [
            "/content/OpenACC-CUDA-beginners/examples/CUDA/DeviceList\n"
          ],
          "name": "stdout"
        }
      ]
    },
    {
      "cell_type": "code",
      "metadata": {
        "colab": {
          "base_uri": "https://localhost:8080/"
        },
        "id": "pWVOmVCcSmgJ",
        "outputId": "b489ca19-e73c-47d9-9022-530f0d9b8222"
      },
      "source": [
        "!ls"
      ],
      "execution_count": 3,
      "outputs": [
        {
          "output_type": "stream",
          "text": [
            "list_devices.cpp  list_devices_ref.cu  list_devices_ref_extended.cu\n"
          ],
          "name": "stdout"
        }
      ]
    },
    {
      "cell_type": "markdown",
      "metadata": {
        "id": "xuSTw5cuStTT"
      },
      "source": [
        "### VectorAdd"
      ]
    },
    {
      "cell_type": "code",
      "metadata": {
        "colab": {
          "base_uri": "https://localhost:8080/"
        },
        "id": "Ns2t2GbtSsrZ",
        "outputId": "9aee19bf-0917-4f41-d706-0bdb0778db44"
      },
      "source": [
        "%cd /content/OpenACC-CUDA-beginners/examples/CUDA/VectorAdd/"
      ],
      "execution_count": 53,
      "outputs": [
        {
          "output_type": "stream",
          "text": [
            "/content/OpenACC-CUDA-beginners/examples/CUDA/VectorAdd\n"
          ],
          "name": "stdout"
        }
      ]
    },
    {
      "cell_type": "code",
      "metadata": {
        "colab": {
          "base_uri": "https://localhost:8080/"
        },
        "id": "JXdmoHspSz3l",
        "outputId": "ed4ac604-5729-405f-ee1c-e0cdbcdc202f"
      },
      "source": [
        "!ls"
      ],
      "execution_count": 54,
      "outputs": [
        {
          "output_type": "stream",
          "text": [
            "vector_add.cpp\t   vector_add_gpu_data_management.cu\n",
            "vector_add_gpu.cu  vector_add_gpu_ref.cu\n"
          ],
          "name": "stdout"
        }
      ]
    },
    {
      "cell_type": "markdown",
      "metadata": {
        "id": "9FA3t0s5S5YP"
      },
      "source": [
        "### VectorDotProduct"
      ]
    },
    {
      "cell_type": "code",
      "metadata": {
        "colab": {
          "base_uri": "https://localhost:8080/"
        },
        "id": "345b-WhYS5YP",
        "outputId": "a0fcc704-84d9-42f7-f45a-2f687cf9452b"
      },
      "source": [
        "%cd /content/OpenACC-CUDA-beginners/examples/CUDA/VectorDotProduct/"
      ],
      "execution_count": 55,
      "outputs": [
        {
          "output_type": "stream",
          "text": [
            "/content/OpenACC-CUDA-beginners/examples/CUDA/VectorDotProduct\n"
          ],
          "name": "stdout"
        }
      ]
    },
    {
      "cell_type": "code",
      "metadata": {
        "colab": {
          "base_uri": "https://localhost:8080/"
        },
        "id": "fZQMPQb4S5YQ",
        "outputId": "e6463945-3375-4d74-fa68-12f37f2e6e2a"
      },
      "source": [
        "!ls"
      ],
      "execution_count": 56,
      "outputs": [
        {
          "output_type": "stream",
          "text": [
            "vector_dot_product.cpp\t   vector_dot_product_gpu_ref.cu\n",
            "vector_dot_product_gpu.cu\n"
          ],
          "name": "stdout"
        }
      ]
    },
    {
      "cell_type": "markdown",
      "metadata": {
        "id": "0vb8XjHUTA5W"
      },
      "source": [
        "### MatrixAdd"
      ]
    },
    {
      "cell_type": "code",
      "metadata": {
        "colab": {
          "base_uri": "https://localhost:8080/"
        },
        "id": "eNTrxEEuTA5X",
        "outputId": "1ec6adc7-d6be-490c-e566-2a463e3839d3"
      },
      "source": [
        "%cd /content/OpenACC-CUDA-beginners/examples/CUDA/MatrixAdd/"
      ],
      "execution_count": 57,
      "outputs": [
        {
          "output_type": "stream",
          "text": [
            "/content/OpenACC-CUDA-beginners/examples/CUDA/MatrixAdd\n"
          ],
          "name": "stdout"
        }
      ]
    },
    {
      "cell_type": "code",
      "metadata": {
        "colab": {
          "base_uri": "https://localhost:8080/"
        },
        "id": "Hn5zEqJ5TA5Y",
        "outputId": "95294c82-df83-444c-a7aa-1084ac918952"
      },
      "source": [
        "!ls"
      ],
      "execution_count": 58,
      "outputs": [
        {
          "output_type": "stream",
          "text": [
            "matrix_add.cpp\tmatrix_add_gpu.cu  matrix_add_gpu_ref.cu\n"
          ],
          "name": "stdout"
        }
      ]
    },
    {
      "cell_type": "markdown",
      "metadata": {
        "id": "kjmBGwtqTGyz"
      },
      "source": [
        "### Heat Equation"
      ]
    },
    {
      "cell_type": "code",
      "metadata": {
        "colab": {
          "base_uri": "https://localhost:8080/"
        },
        "id": "boUhbj-sTGyz",
        "outputId": "f10c6ad6-da52-48dc-d627-3bc4dbff2217"
      },
      "source": [
        "%cd /content/OpenACC-CUDA-beginners/examples/CUDA/HeatEquation/"
      ],
      "execution_count": 59,
      "outputs": [
        {
          "output_type": "stream",
          "text": [
            "/content/OpenACC-CUDA-beginners/examples/CUDA/HeatEquation\n"
          ],
          "name": "stdout"
        }
      ]
    },
    {
      "cell_type": "code",
      "metadata": {
        "colab": {
          "base_uri": "https://localhost:8080/"
        },
        "id": "pYdj-TOcTGy0",
        "outputId": "383655c4-692d-4109-ae48-27a18d14616e"
      },
      "source": [
        "!ls"
      ],
      "execution_count": 60,
      "outputs": [
        {
          "output_type": "stream",
          "text": [
            "compile.sh\t\theat_equation_gpu_2_remove_copy_calls.cu  pngwriter.h\n",
            "heat_equation.cpp\theat_equation_gpu_3_shared_memory.cu\n",
            "heat_equation_gpu_1.cu\tpngwriter.cpp\n"
          ],
          "name": "stdout"
        }
      ]
    },
    {
      "cell_type": "code",
      "metadata": {
        "id": "wc5d7zXGpxfv"
      },
      "source": [
        ""
      ],
      "execution_count": null,
      "outputs": []
    }
  ]
}